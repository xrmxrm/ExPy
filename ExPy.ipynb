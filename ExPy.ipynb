{
 "cells": [
  {
   "cell_type": "code",
   "execution_count": 3,
   "metadata": {},
   "outputs": [],
   "source": [
    "class Aggregator:\n",
    "    all_aggregated = []\n",
    "    last_aggregated = None\n",
    "    def aggregate(self, value):\n",
    "        self.last_aggregated = value\n",
    "        self.all_aggregated.append(value)"
   ]
  },
  {
   "cell_type": "code",
   "execution_count": 9,
   "metadata": {},
   "outputs": [],
   "source": [
    "class Aggregator:\n",
    "    def __init__(self):\n",
    "        self.all_aggregated = []\n",
    "        self.last_aggregated = None\n",
    "    def aggregate(self, value):\n",
    "        self.last_aggregated = value\n",
    "        self.all_aggregated.append(value)"
   ]
  },
  {
   "cell_type": "code",
   "execution_count": 10,
   "metadata": {},
   "outputs": [],
   "source": [
    "a1 = Aggregator()\n",
    "a2 = Aggregator()\n",
    "a1.aggregate(\"a1-1\")\n",
    "a1.aggregate(\"a1-2\")\n",
    "a2.aggregate(\"a2-1\")"
   ]
  },
  {
   "cell_type": "code",
   "execution_count": 11,
   "metadata": {},
   "outputs": [
    {
     "data": {
      "text/plain": [
       "['a1-1', 'a1-2']"
      ]
     },
     "execution_count": 11,
     "metadata": {},
     "output_type": "execute_result"
    }
   ],
   "source": [
    "a1.all_aggregated"
   ]
  },
  {
   "cell_type": "code",
   "execution_count": 12,
   "metadata": {},
   "outputs": [
    {
     "data": {
      "text/plain": [
       "['a2-1']"
      ]
     },
     "execution_count": 12,
     "metadata": {},
     "output_type": "execute_result"
    }
   ],
   "source": [
    "a2.all_aggregated"
   ]
  },
  {
   "cell_type": "code",
   "execution_count": 13,
   "metadata": {},
   "outputs": [
    {
     "data": {
      "text/plain": [
       "'a1-2'"
      ]
     },
     "execution_count": 13,
     "metadata": {},
     "output_type": "execute_result"
    }
   ],
   "source": [
    "a1.last_aggregated\n",
    "\n"
   ]
  },
  {
   "cell_type": "code",
   "execution_count": 14,
   "metadata": {},
   "outputs": [
    {
     "data": {
      "text/plain": [
       "'a2-1'"
      ]
     },
     "execution_count": 14,
     "metadata": {},
     "output_type": "execute_result"
    }
   ],
   "source": [
    "a2.last_aggregated"
   ]
  },
  {
   "cell_type": "code",
   "execution_count": 15,
   "metadata": {},
   "outputs": [],
   "source": [
    "class RevealAccess(object): \n",
    "    \"\"\"A data descriptor that sets and returns values \n",
    "       normally and prints a message logging their access. \n",
    "    \"\"\" \n",
    " \n",
    "    def __init__(self, initval=None, name='var'): \n",
    "        self.val = initval \n",
    "        self.name = name \n",
    " \n",
    "    def __get__(self, obj, objtype): \n",
    "        print('Retrieving', self.name) \n",
    "        return self.val \n",
    " \n",
    "    def __set__(self, obj, val): \n",
    "        print('Updating', self.name) \n",
    "        self.val = val \n",
    " \n",
    "    def __delete__(self, obj): \n",
    "        print('Deleting', self.name) \n",
    " \n",
    "class MyClass(object): \n",
    "    x = RevealAccess(10, 'var \"x\"') \n",
    "    y = 5"
   ]
  },
  {
   "cell_type": "code",
   "execution_count": 16,
   "metadata": {},
   "outputs": [
    {
     "name": "stdout",
     "output_type": "stream",
     "text": [
      "Retrieving var \"x\"\n"
     ]
    },
    {
     "data": {
      "text/plain": [
       "10"
      ]
     },
     "execution_count": 16,
     "metadata": {},
     "output_type": "execute_result"
    }
   ],
   "source": [
    "m = MyClass()\n",
    "m.x"
   ]
  },
  {
   "cell_type": "code",
   "execution_count": 17,
   "metadata": {},
   "outputs": [
    {
     "name": "stdout",
     "output_type": "stream",
     "text": [
      "Updating var \"x\"\n"
     ]
    }
   ],
   "source": [
    "m.x = 20"
   ]
  },
  {
   "cell_type": "code",
   "execution_count": 18,
   "metadata": {},
   "outputs": [
    {
     "name": "stdout",
     "output_type": "stream",
     "text": [
      "Retrieving var \"x\"\n"
     ]
    },
    {
     "data": {
      "text/plain": [
       "20"
      ]
     },
     "execution_count": 18,
     "metadata": {},
     "output_type": "execute_result"
    }
   ],
   "source": [
    "m.x"
   ]
  },
  {
   "cell_type": "code",
   "execution_count": 19,
   "metadata": {},
   "outputs": [
    {
     "data": {
      "text/plain": [
       "5"
      ]
     },
     "execution_count": 19,
     "metadata": {},
     "output_type": "execute_result"
    }
   ],
   "source": [
    "m.y"
   ]
  },
  {
   "cell_type": "code",
   "execution_count": 20,
   "metadata": {},
   "outputs": [
    {
     "name": "stdout",
     "output_type": "stream",
     "text": [
      "Deleting var \"x\"\n"
     ]
    }
   ],
   "source": [
    "del m.x"
   ]
  },
  {
   "cell_type": "code",
   "execution_count": 21,
   "metadata": {},
   "outputs": [
    {
     "data": {
      "text/plain": [
       "True"
      ]
     },
     "execution_count": 21,
     "metadata": {},
     "output_type": "execute_result"
    }
   ],
   "source": [
    "def function(): pass\n",
    "hasattr(function, '__get__')"
   ]
  },
  {
   "cell_type": "code",
   "execution_count": 22,
   "metadata": {},
   "outputs": [
    {
     "data": {
      "text/plain": [
       "False"
      ]
     },
     "execution_count": 22,
     "metadata": {},
     "output_type": "execute_result"
    }
   ],
   "source": [
    "hasattr(function, '__set__')"
   ]
  },
  {
   "cell_type": "code",
   "execution_count": 23,
   "metadata": {},
   "outputs": [],
   "source": [
    "class InitOnAccess: \n",
    "    def __init__(self, init_func, *args, **kwargs): \n",
    "        self.klass = init_func \n",
    "        self.args = args \n",
    "        self.kwargs = kwargs \n",
    "        self._initialized = None \n",
    " \n",
    "    def __get__(self, instance, owner): \n",
    "        if self._initialized is None: \n",
    "            print('initialized!') \n",
    "            self._initialized = self.klass(*self.args,              **self.kwargs) \n",
    "        else: \n",
    "            print('cached!') \n",
    "        return self._initialized"
   ]
  },
  {
   "cell_type": "code",
   "execution_count": 24,
   "metadata": {},
   "outputs": [],
   "source": [
    "import random\n",
    "class WithSortedRandoms:\n",
    "    lazily_initialized = InitOnAccess(\n",
    "        sorted,\n",
    "        [random.random() for _ in range(5)]\n",
    "    )"
   ]
  },
  {
   "cell_type": "code",
   "execution_count": 26,
   "metadata": {},
   "outputs": [
    {
     "name": "stdout",
     "output_type": "stream",
     "text": [
      "initialized!\n"
     ]
    },
    {
     "data": {
      "text/plain": [
       "[0.053237883419905874,\n",
       " 0.0860651335912972,\n",
       " 0.1337135889252743,\n",
       " 0.4437427529846829,\n",
       " 0.6778415206057101]"
      ]
     },
     "execution_count": 26,
     "metadata": {},
     "output_type": "execute_result"
    }
   ],
   "source": [
    "m = WithSortedRandoms()\n",
    "m.lazily_initialized"
   ]
  },
  {
   "cell_type": "code",
   "execution_count": 32,
   "metadata": {},
   "outputs": [],
   "source": [
    "class lazy_property(object): \n",
    "    def __init__(self, function): \n",
    "        self.fget = function \n",
    " \n",
    "    def __get__(self, obj, cls): \n",
    "        value = self.fget(obj) \n",
    "        setattr(obj, self.fget.__name__, value) \n",
    "        return value "
   ]
  },
  {
   "cell_type": "code",
   "execution_count": 33,
   "metadata": {},
   "outputs": [],
   "source": [
    "class WithSortedRandoms:\n",
    "    @lazy_property\n",
    "    def lazily_initialized(self):\n",
    "        return sorted([random.random() for _ in range(5)])"
   ]
  },
  {
   "cell_type": "code",
   "execution_count": 34,
   "metadata": {},
   "outputs": [
    {
     "data": {
      "text/plain": [
       "[0.014236312848032173,\n",
       " 0.2100174974429142,\n",
       " 0.5282393143699647,\n",
       " 0.8597259320480741,\n",
       " 0.9045365839320688]"
      ]
     },
     "execution_count": 34,
     "metadata": {},
     "output_type": "execute_result"
    }
   ],
   "source": [
    "m = WithSortedRandoms()\n",
    "m.lazily_initialized"
   ]
  },
  {
   "cell_type": "code",
   "execution_count": 42,
   "metadata": {},
   "outputs": [],
   "source": [
    "class Matrix:\n",
    "    def __init__(self, rows):\n",
    "        if len(set(len(row) for row in rows)) > 1:\n",
    "            raise ValueError(\"All matrix rows must be the same length\")\n",
    "        self.rows = rows\n",
    "\n",
    "    def __add__(self, other):\n",
    "        if (\n",
    "            len(self.rows) != len(other.rows) or\n",
    "            len(self.rows[0]) != len(other.rows[0])\n",
    "        ):\n",
    "            raise ValueError(\"Matrix dimensions don't match\")\n",
    "        return Matrix([\n",
    "            [a + b for a, b in zip(a_row, b_row)]\n",
    "            for a_row, b_row in zip(self.rows, other.rows)\n",
    "        ])\n",
    "    \n",
    "    def __sub__(self, other):\n",
    "        if (\n",
    "            len(self.rows) != len(other.rows) or\n",
    "            len(self.rows[0]) != len(other.rows[0])\n",
    "        ):\n",
    "            raise ValueError(\"Matrix dimensions don't match\")\n",
    "        return Matrix([\n",
    "            [a - b for a, b in zip(a_row, b_row)]\n",
    "            for a_row, b_row in zip(self.rows, other.rows)\n",
    "        ])\n",
    "    \n",
    "    def __mul__(self, other):\n",
    "        if isinstance(other, Matrix):\n",
    "            if len(self.rows[0]) != len(other.rows):\n",
    "                raise ValueError(\n",
    "                    \"Matrix dimensions don't match\"\n",
    "                )\n",
    "            rows = [[0 for _ in other.rows[0]] for _ in self.rows]\n",
    "            for i in range(len(self.rows)):\n",
    "                for j in range(len(other.rows[0])):\n",
    "                    for k in range(len(other.rows)):\n",
    "                        rows[i][j] += self.rows[i][k] * other.rows[k][j]\n",
    "            return Matrix(rows)\n",
    "        elif isinstance(other, int):\n",
    "            return Matrix([\n",
    "                [item * other for item in row]\n",
    "                for row in self.rows\n",
    "            ])\n",
    "        else:\n",
    "            raise TypeError(f\"Can't multiply {type(other)} by Matrix\")"
   ]
  },
  {
   "cell_type": "code",
   "execution_count": 44,
   "metadata": {},
   "outputs": [
    {
     "name": "stdout",
     "output_type": "stream",
     "text": [
      "<__main__.Matrix object at 0x7f4d64271c30>\n"
     ]
    }
   ],
   "source": [
    "m = Matrix([[1, 1], [2, 2]]) * 3\n",
    "print(m)"
   ]
  },
  {
   "cell_type": "code",
   "execution_count": 45,
   "metadata": {},
   "outputs": [],
   "source": [
    "from dataclasses import dataclass\n",
    "@dataclass\n",
    "class Vector:\n",
    "    x: int\n",
    "    y: int\n",
    "    def __add__(self, other):\n",
    "        \"\"\"Add two vectors using + operator\"\"\"\n",
    "        return Vector(\n",
    "            self.x + other.x,\n",
    "            self.y + other.y,\n",
    "        )\n",
    "    def __sub__(self, other):\n",
    "        \"\"\"Subtract two vectors using - operator\"\"\"\n",
    "        return Vector(\n",
    "            self.x - other.x,\n",
    "            self.y - other.y,\n",
    "        )"
   ]
  },
  {
   "cell_type": "code",
   "execution_count": 46,
   "metadata": {},
   "outputs": [],
   "source": [
    "from dataclasses import dataclass, field\n",
    "@dataclass\n",
    "class DataClassWithDefaults:\n",
    "    immutable: str = field(default=\"this is static default value\")\n",
    "    mutable: list = field(default_factory=list)"
   ]
  },
  {
   "cell_type": "code",
   "execution_count": 49,
   "metadata": {},
   "outputs": [
    {
     "data": {
      "text/plain": [
       "(DataClassWithDefaults(immutable='this is static default value', mutable=[]),\n",
       " DataClassWithDefaults(immutable='This is immutable', mutable=[]),\n",
       " DataClassWithDefaults(immutable=None, mutable=['this', 'is', 'list']))"
      ]
     },
     "execution_count": 49,
     "metadata": {},
     "output_type": "execute_result"
    }
   ],
   "source": [
    "d1 = DataClassWithDefaults(immutable='this is static default value', mutable=[])\n",
    "d2 = DataClassWithDefaults(\"This is immutable\")\n",
    "DataClassWithDefaults(immutable='This is immutable', mutable=[])\n",
    "d3 = DataClassWithDefaults(None, [\"this\", \"is\", \"list\"])\n",
    "DataClassWithDefaults(immutable=None, mutable=['this', 'is', 'list'])\n",
    "d1, d2, d3"
   ]
  },
  {
   "cell_type": "code",
   "execution_count": 50,
   "metadata": {},
   "outputs": [],
   "source": [
    "def fibonacci():\n",
    "    a, b = 0, 1\n",
    "    while True:\n",
    "        yield b\n",
    "        a, b = b, a + b"
   ]
  },
  {
   "cell_type": "code",
   "execution_count": 51,
   "metadata": {},
   "outputs": [],
   "source": [
    "fib = fibonacci()"
   ]
  },
  {
   "cell_type": "code",
   "execution_count": 52,
   "metadata": {},
   "outputs": [
    {
     "data": {
      "text/plain": [
       "1"
      ]
     },
     "execution_count": 52,
     "metadata": {},
     "output_type": "execute_result"
    }
   ],
   "source": [
    "next(fib)"
   ]
  },
  {
   "cell_type": "code",
   "execution_count": 53,
   "metadata": {},
   "outputs": [
    {
     "data": {
      "text/plain": [
       "1"
      ]
     },
     "execution_count": 53,
     "metadata": {},
     "output_type": "execute_result"
    }
   ],
   "source": [
    "next(fib)"
   ]
  },
  {
   "cell_type": "code",
   "execution_count": 54,
   "metadata": {},
   "outputs": [
    {
     "data": {
      "text/plain": [
       "2"
      ]
     },
     "execution_count": 54,
     "metadata": {},
     "output_type": "execute_result"
    }
   ],
   "source": [
    "next(fib)"
   ]
  },
  {
   "cell_type": "code",
   "execution_count": 55,
   "metadata": {},
   "outputs": [
    {
     "data": {
      "text/plain": [
       "3"
      ]
     },
     "execution_count": 55,
     "metadata": {},
     "output_type": "execute_result"
    }
   ],
   "source": [
    "next(fib)"
   ]
  },
  {
   "cell_type": "code",
   "execution_count": 56,
   "metadata": {},
   "outputs": [
    {
     "name": "stdout",
     "output_type": "stream",
     "text": [
      "1\n",
      "1\n",
      "2\n",
      "3\n",
      "5\n",
      "8\n",
      "13\n"
     ]
    }
   ],
   "source": [
    "for item in fibonacci():\n",
    "    print(item)\n",
    "    if item > 10: break"
   ]
  },
  {
   "cell_type": "code",
   "execution_count": 57,
   "metadata": {},
   "outputs": [],
   "source": [
    "import itertools\n",
    "from dataclasses import dataclass\n",
    "from typing import Iterable, Protocol, runtime_checkable\n",
    "@runtime_checkable\n",
    "class IBox(Protocol):\n",
    "    x1: float\n",
    "    y1: float\n",
    "    x2: float\n",
    "    y2: float\n",
    "@runtime_checkable\n",
    "class ICollider(Protocol):\n",
    "    @property\n",
    "    def bounding_box(self) -> IBox: ...\n",
    "def rects_collide(rect1: IBox, rect2: IBox):\n",
    "    \"\"\"Check collision between rectangles\n",
    "    Rectangle coordinates:\n",
    "        ┌───(x2, y2)\n",
    "        │       │\n",
    "      (x1, y1)──┘\n",
    "    \"\"\"\n",
    "    return (\n",
    "        rect1.x1 < rect2.x2 and\n",
    "        rect1.x2 > rect2.x1 and\n",
    "        rect1.y1 < rect2.y2 and\n",
    "        rect1.y2 > rect2.y1\n",
    "    )\n",
    "def find_collisions(objects: Iterable[ICollider]):\n",
    "    for item in objects:\n",
    "        if not isinstance(item, ICollider):\n",
    "            raise TypeError(f\"{item} is not a collider\")\n",
    "    return [\n",
    "        (item1, item2)\n",
    "        for item1, item2\n",
    "        in itertools.combinations(objects, 2)\n",
    "        if rects_collide(\n",
    "            item1.bounding_box,\n",
    "            item2.bounding_box\n",
    "        )\n",
    "    ]"
   ]
  },
  {
   "cell_type": "code",
   "execution_count": 58,
   "metadata": {},
   "outputs": [],
   "source": [
    "from collections import Counter\n",
    "from http import HTTPStatus\n",
    "from flask import Flask, request, Response\n",
    "app = Flask(__name__)\n",
    "storage = Counter()\n",
    "PIXEL = (\n",
    "    b'GIF89a\\x01\\x00\\x01\\x00\\x80\\x00\\x00\\x00'\n",
    "    b'\\x00\\x00\\xff\\xff\\xff!\\xf9\\x04\\x01\\x00'\n",
    "    b'\\x00\\x00\\x00,\\x00\\x00\\x00\\x00\\x01\\x00'\n",
    "    b'\\x01\\x00\\x00\\x02\\x01D\\x00;'\n",
    ")\n",
    "\n",
    "@app.route('/track')\n",
    "def track():\n",
    "    try:\n",
    "        referer = request.headers[\"Referer\"]\n",
    "    except KeyError:\n",
    "        return Response(status=HTTPStatus.BAD_REQUEST)\n",
    "    storage[referer] += 1\n",
    "    return Response(\n",
    "        PIXEL, headers={\n",
    "            \"Content-Type\": \"image/gif\",\n",
    "            \"Expires\": \"Mon, 01 Jan 1990 00:00:00 GMT\",\n",
    "            \"Cache-Control\": \"no-cache, no-store, must-revalidate\",\n",
    "            \"Pragma\": \"no-cache\",\n",
    "        }\n",
    "    )\n",
    "\n",
    "@app.route('/stats')\n",
    "def stats():\n",
    "    return dict(storage.most_common(10)"
   ]
  },
  {
   "cell_type": "code",
   "execution_count": null,
   "metadata": {},
   "outputs": [],
   "source": []
  }
 ],
 "metadata": {
  "kernelspec": {
   "display_name": "Python 3",
   "language": "python",
   "name": "python3"
  },
  "language_info": {
   "codemirror_mode": {
    "name": "ipython",
    "version": 3
   },
   "file_extension": ".py",
   "mimetype": "text/x-python",
   "name": "python",
   "nbconvert_exporter": "python",
   "pygments_lexer": "ipython3",
   "version": "3.10.12"
  },
  "orig_nbformat": 4
 },
 "nbformat": 4,
 "nbformat_minor": 2
}
