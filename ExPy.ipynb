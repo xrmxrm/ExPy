{
 "cells": [
  {
   "cell_type": "code",
   "execution_count": 3,
   "metadata": {},
   "outputs": [],
   "source": [
    "class Aggregator:\n",
    "    all_aggregated = []\n",
    "    last_aggregated = None\n",
    "    def aggregate(self, value):\n",
    "        self.last_aggregated = value\n",
    "        self.all_aggregated.append(value)"
   ]
  },
  {
   "cell_type": "code",
   "execution_count": 9,
   "metadata": {},
   "outputs": [],
   "source": [
    "class Aggregator:\n",
    "    def __init__(self):\n",
    "        self.all_aggregated = []\n",
    "        self.last_aggregated = None\n",
    "    def aggregate(self, value):\n",
    "        self.last_aggregated = value\n",
    "        self.all_aggregated.append(value)"
   ]
  },
  {
   "cell_type": "code",
   "execution_count": 10,
   "metadata": {},
   "outputs": [],
   "source": [
    "a1 = Aggregator()\n",
    "a2 = Aggregator()\n",
    "a1.aggregate(\"a1-1\")\n",
    "a1.aggregate(\"a1-2\")\n",
    "a2.aggregate(\"a2-1\")"
   ]
  },
  {
   "cell_type": "code",
   "execution_count": 11,
   "metadata": {},
   "outputs": [
    {
     "data": {
      "text/plain": [
       "['a1-1', 'a1-2']"
      ]
     },
     "execution_count": 11,
     "metadata": {},
     "output_type": "execute_result"
    }
   ],
   "source": [
    "a1.all_aggregated"
   ]
  },
  {
   "cell_type": "code",
   "execution_count": 12,
   "metadata": {},
   "outputs": [
    {
     "data": {
      "text/plain": [
       "['a2-1']"
      ]
     },
     "execution_count": 12,
     "metadata": {},
     "output_type": "execute_result"
    }
   ],
   "source": [
    "a2.all_aggregated"
   ]
  },
  {
   "cell_type": "code",
   "execution_count": 13,
   "metadata": {},
   "outputs": [
    {
     "data": {
      "text/plain": [
       "'a1-2'"
      ]
     },
     "execution_count": 13,
     "metadata": {},
     "output_type": "execute_result"
    }
   ],
   "source": [
    "a1.last_aggregated\n",
    "\n"
   ]
  },
  {
   "cell_type": "code",
   "execution_count": 14,
   "metadata": {},
   "outputs": [
    {
     "data": {
      "text/plain": [
       "'a2-1'"
      ]
     },
     "execution_count": 14,
     "metadata": {},
     "output_type": "execute_result"
    }
   ],
   "source": [
    "a2.last_aggregated"
   ]
  },
  {
   "cell_type": "code",
   "execution_count": 15,
   "metadata": {},
   "outputs": [],
   "source": [
    "class RevealAccess(object): \n",
    "    \"\"\"A data descriptor that sets and returns values \n",
    "       normally and prints a message logging their access. \n",
    "    \"\"\" \n",
    " \n",
    "    def __init__(self, initval=None, name='var'): \n",
    "        self.val = initval \n",
    "        self.name = name \n",
    " \n",
    "    def __get__(self, obj, objtype): \n",
    "        print('Retrieving', self.name) \n",
    "        return self.val \n",
    " \n",
    "    def __set__(self, obj, val): \n",
    "        print('Updating', self.name) \n",
    "        self.val = val \n",
    " \n",
    "    def __delete__(self, obj): \n",
    "        print('Deleting', self.name) \n",
    " \n",
    "class MyClass(object): \n",
    "    x = RevealAccess(10, 'var \"x\"') \n",
    "    y = 5"
   ]
  },
  {
   "cell_type": "code",
   "execution_count": 16,
   "metadata": {},
   "outputs": [
    {
     "name": "stdout",
     "output_type": "stream",
     "text": [
      "Retrieving var \"x\"\n"
     ]
    },
    {
     "data": {
      "text/plain": [
       "10"
      ]
     },
     "execution_count": 16,
     "metadata": {},
     "output_type": "execute_result"
    }
   ],
   "source": [
    "m = MyClass()\n",
    "m.x"
   ]
  },
  {
   "cell_type": "code",
   "execution_count": 17,
   "metadata": {},
   "outputs": [
    {
     "name": "stdout",
     "output_type": "stream",
     "text": [
      "Updating var \"x\"\n"
     ]
    }
   ],
   "source": [
    "m.x = 20"
   ]
  },
  {
   "cell_type": "code",
   "execution_count": 18,
   "metadata": {},
   "outputs": [
    {
     "name": "stdout",
     "output_type": "stream",
     "text": [
      "Retrieving var \"x\"\n"
     ]
    },
    {
     "data": {
      "text/plain": [
       "20"
      ]
     },
     "execution_count": 18,
     "metadata": {},
     "output_type": "execute_result"
    }
   ],
   "source": [
    "m.x"
   ]
  },
  {
   "cell_type": "code",
   "execution_count": 19,
   "metadata": {},
   "outputs": [
    {
     "data": {
      "text/plain": [
       "5"
      ]
     },
     "execution_count": 19,
     "metadata": {},
     "output_type": "execute_result"
    }
   ],
   "source": [
    "m.y"
   ]
  },
  {
   "cell_type": "code",
   "execution_count": 20,
   "metadata": {},
   "outputs": [
    {
     "name": "stdout",
     "output_type": "stream",
     "text": [
      "Deleting var \"x\"\n"
     ]
    }
   ],
   "source": [
    "del m.x"
   ]
  },
  {
   "cell_type": "code",
   "execution_count": 21,
   "metadata": {},
   "outputs": [
    {
     "data": {
      "text/plain": [
       "True"
      ]
     },
     "execution_count": 21,
     "metadata": {},
     "output_type": "execute_result"
    }
   ],
   "source": [
    "def function(): pass\n",
    "hasattr(function, '__get__')"
   ]
  },
  {
   "cell_type": "code",
   "execution_count": 22,
   "metadata": {},
   "outputs": [
    {
     "data": {
      "text/plain": [
       "False"
      ]
     },
     "execution_count": 22,
     "metadata": {},
     "output_type": "execute_result"
    }
   ],
   "source": [
    "hasattr(function, '__set__')"
   ]
  },
  {
   "cell_type": "code",
   "execution_count": 23,
   "metadata": {},
   "outputs": [],
   "source": [
    "class InitOnAccess: \n",
    "    def __init__(self, init_func, *args, **kwargs): \n",
    "        self.klass = init_func \n",
    "        self.args = args \n",
    "        self.kwargs = kwargs \n",
    "        self._initialized = None \n",
    " \n",
    "    def __get__(self, instance, owner): \n",
    "        if self._initialized is None: \n",
    "            print('initialized!') \n",
    "            self._initialized = self.klass(*self.args,              **self.kwargs) \n",
    "        else: \n",
    "            print('cached!') \n",
    "        return self._initialized"
   ]
  },
  {
   "cell_type": "code",
   "execution_count": 24,
   "metadata": {},
   "outputs": [],
   "source": [
    "import random\n",
    "class WithSortedRandoms:\n",
    "    lazily_initialized = InitOnAccess(\n",
    "        sorted,\n",
    "        [random.random() for _ in range(5)]\n",
    "    )"
   ]
  },
  {
   "cell_type": "code",
   "execution_count": 26,
   "metadata": {},
   "outputs": [
    {
     "name": "stdout",
     "output_type": "stream",
     "text": [
      "initialized!\n"
     ]
    },
    {
     "data": {
      "text/plain": [
       "[0.053237883419905874,\n",
       " 0.0860651335912972,\n",
       " 0.1337135889252743,\n",
       " 0.4437427529846829,\n",
       " 0.6778415206057101]"
      ]
     },
     "execution_count": 26,
     "metadata": {},
     "output_type": "execute_result"
    }
   ],
   "source": [
    "m = WithSortedRandoms()\n",
    "m.lazily_initialized"
   ]
  },
  {
   "cell_type": "code",
   "execution_count": 32,
   "metadata": {},
   "outputs": [],
   "source": [
    "class lazy_property(object): \n",
    "    def __init__(self, function): \n",
    "        self.fget = function \n",
    " \n",
    "    def __get__(self, obj, cls): \n",
    "        value = self.fget(obj) \n",
    "        setattr(obj, self.fget.__name__, value) \n",
    "        return value "
   ]
  },
  {
   "cell_type": "code",
   "execution_count": 33,
   "metadata": {},
   "outputs": [],
   "source": [
    "class WithSortedRandoms:\n",
    "    @lazy_property\n",
    "    def lazily_initialized(self):\n",
    "        return sorted([random.random() for _ in range(5)])"
   ]
  },
  {
   "cell_type": "code",
   "execution_count": 34,
   "metadata": {},
   "outputs": [
    {
     "data": {
      "text/plain": [
       "[0.014236312848032173,\n",
       " 0.2100174974429142,\n",
       " 0.5282393143699647,\n",
       " 0.8597259320480741,\n",
       " 0.9045365839320688]"
      ]
     },
     "execution_count": 34,
     "metadata": {},
     "output_type": "execute_result"
    }
   ],
   "source": [
    "m = WithSortedRandoms()\n",
    "m.lazily_initialized"
   ]
  },
  {
   "cell_type": "code",
   "execution_count": 42,
   "metadata": {},
   "outputs": [],
   "source": [
    "class Matrix:\n",
    "    def __init__(self, rows):\n",
    "        if len(set(len(row) for row in rows)) > 1:\n",
    "            raise ValueError(\"All matrix rows must be the same length\")\n",
    "        self.rows = rows\n",
    "\n",
    "    def __add__(self, other):\n",
    "        if (\n",
    "            len(self.rows) != len(other.rows) or\n",
    "            len(self.rows[0]) != len(other.rows[0])\n",
    "        ):\n",
    "            raise ValueError(\"Matrix dimensions don't match\")\n",
    "        return Matrix([\n",
    "            [a + b for a, b in zip(a_row, b_row)]\n",
    "            for a_row, b_row in zip(self.rows, other.rows)\n",
    "        ])\n",
    "    \n",
    "    def __sub__(self, other):\n",
    "        if (\n",
    "            len(self.rows) != len(other.rows) or\n",
    "            len(self.rows[0]) != len(other.rows[0])\n",
    "        ):\n",
    "            raise ValueError(\"Matrix dimensions don't match\")\n",
    "        return Matrix([\n",
    "            [a - b for a, b in zip(a_row, b_row)]\n",
    "            for a_row, b_row in zip(self.rows, other.rows)\n",
    "        ])\n",
    "    \n",
    "    def __mul__(self, other):\n",
    "        if isinstance(other, Matrix):\n",
    "            if len(self.rows[0]) != len(other.rows):\n",
    "                raise ValueError(\n",
    "                    \"Matrix dimensions don't match\"\n",
    "                )\n",
    "            rows = [[0 for _ in other.rows[0]] for _ in self.rows]\n",
    "            for i in range(len(self.rows)):\n",
    "                for j in range(len(other.rows[0])):\n",
    "                    for k in range(len(other.rows)):\n",
    "                        rows[i][j] += self.rows[i][k] * other.rows[k][j]\n",
    "            return Matrix(rows)\n",
    "        elif isinstance(other, int):\n",
    "            return Matrix([\n",
    "                [item * other for item in row]\n",
    "                for row in self.rows\n",
    "            ])\n",
    "        else:\n",
    "            raise TypeError(f\"Can't multiply {type(other)} by Matrix\")"
   ]
  },
  {
   "cell_type": "code",
   "execution_count": 44,
   "metadata": {},
   "outputs": [
    {
     "name": "stdout",
     "output_type": "stream",
     "text": [
      "<__main__.Matrix object at 0x7f4d64271c30>\n"
     ]
    }
   ],
   "source": [
    "m = Matrix([[1, 1], [2, 2]]) * 3\n",
    "print(m)"
   ]
  },
  {
   "cell_type": "code",
   "execution_count": 45,
   "metadata": {},
   "outputs": [],
   "source": [
    "from dataclasses import dataclass\n",
    "@dataclass\n",
    "class Vector:\n",
    "    x: int\n",
    "    y: int\n",
    "    def __add__(self, other):\n",
    "        \"\"\"Add two vectors using + operator\"\"\"\n",
    "        return Vector(\n",
    "            self.x + other.x,\n",
    "            self.y + other.y,\n",
    "        )\n",
    "    def __sub__(self, other):\n",
    "        \"\"\"Subtract two vectors using - operator\"\"\"\n",
    "        return Vector(\n",
    "            self.x - other.x,\n",
    "            self.y - other.y,\n",
    "        )"
   ]
  },
  {
   "cell_type": "code",
   "execution_count": 46,
   "metadata": {},
   "outputs": [],
   "source": [
    "from dataclasses import dataclass, field\n",
    "@dataclass\n",
    "class DataClassWithDefaults:\n",
    "    immutable: str = field(default=\"this is static default value\")\n",
    "    mutable: list = field(default_factory=list)"
   ]
  },
  {
   "cell_type": "code",
   "execution_count": 49,
   "metadata": {},
   "outputs": [
    {
     "data": {
      "text/plain": [
       "(DataClassWithDefaults(immutable='this is static default value', mutable=[]),\n",
       " DataClassWithDefaults(immutable='This is immutable', mutable=[]),\n",
       " DataClassWithDefaults(immutable=None, mutable=['this', 'is', 'list']))"
      ]
     },
     "execution_count": 49,
     "metadata": {},
     "output_type": "execute_result"
    }
   ],
   "source": [
    "d1 = DataClassWithDefaults(immutable='this is static default value', mutable=[])\n",
    "d2 = DataClassWithDefaults(\"This is immutable\")\n",
    "DataClassWithDefaults(immutable='This is immutable', mutable=[])\n",
    "d3 = DataClassWithDefaults(None, [\"this\", \"is\", \"list\"])\n",
    "DataClassWithDefaults(immutable=None, mutable=['this', 'is', 'list'])\n",
    "d1, d2, d3"
   ]
  },
  {
   "cell_type": "code",
   "execution_count": 50,
   "metadata": {},
   "outputs": [],
   "source": [
    "def fibonacci():\n",
    "    a, b = 0, 1\n",
    "    while True:\n",
    "        yield b\n",
    "        a, b = b, a + b"
   ]
  },
  {
   "cell_type": "code",
   "execution_count": 51,
   "metadata": {},
   "outputs": [],
   "source": [
    "fib = fibonacci()"
   ]
  },
  {
   "cell_type": "code",
   "execution_count": 52,
   "metadata": {},
   "outputs": [
    {
     "data": {
      "text/plain": [
       "1"
      ]
     },
     "execution_count": 52,
     "metadata": {},
     "output_type": "execute_result"
    }
   ],
   "source": [
    "next(fib)"
   ]
  },
  {
   "cell_type": "code",
   "execution_count": 53,
   "metadata": {},
   "outputs": [
    {
     "data": {
      "text/plain": [
       "1"
      ]
     },
     "execution_count": 53,
     "metadata": {},
     "output_type": "execute_result"
    }
   ],
   "source": [
    "next(fib)"
   ]
  },
  {
   "cell_type": "code",
   "execution_count": 54,
   "metadata": {},
   "outputs": [
    {
     "data": {
      "text/plain": [
       "2"
      ]
     },
     "execution_count": 54,
     "metadata": {},
     "output_type": "execute_result"
    }
   ],
   "source": [
    "next(fib)"
   ]
  },
  {
   "cell_type": "code",
   "execution_count": 55,
   "metadata": {},
   "outputs": [
    {
     "data": {
      "text/plain": [
       "3"
      ]
     },
     "execution_count": 55,
     "metadata": {},
     "output_type": "execute_result"
    }
   ],
   "source": [
    "next(fib)"
   ]
  },
  {
   "cell_type": "code",
   "execution_count": 56,
   "metadata": {},
   "outputs": [
    {
     "name": "stdout",
     "output_type": "stream",
     "text": [
      "1\n",
      "1\n",
      "2\n",
      "3\n",
      "5\n",
      "8\n",
      "13\n"
     ]
    }
   ],
   "source": [
    "for item in fibonacci():\n",
    "    print(item)\n",
    "    if item > 10: break"
   ]
  },
  {
   "cell_type": "code",
   "execution_count": 57,
   "metadata": {},
   "outputs": [],
   "source": [
    "import itertools\n",
    "from dataclasses import dataclass\n",
    "from typing import Iterable, Protocol, runtime_checkable\n",
    "@runtime_checkable\n",
    "class IBox(Protocol):\n",
    "    x1: float\n",
    "    y1: float\n",
    "    x2: float\n",
    "    y2: float\n",
    "@runtime_checkable\n",
    "class ICollider(Protocol):\n",
    "    @property\n",
    "    def bounding_box(self) -> IBox: ...\n",
    "def rects_collide(rect1: IBox, rect2: IBox):\n",
    "    \"\"\"Check collision between rectangles\n",
    "    Rectangle coordinates:\n",
    "        ┌───(x2, y2)\n",
    "        │       │\n",
    "      (x1, y1)──┘\n",
    "    \"\"\"\n",
    "    return (\n",
    "        rect1.x1 < rect2.x2 and\n",
    "        rect1.x2 > rect2.x1 and\n",
    "        rect1.y1 < rect2.y2 and\n",
    "        rect1.y2 > rect2.y1\n",
    "    )\n",
    "def find_collisions(objects: Iterable[ICollider]):\n",
    "    for item in objects:\n",
    "        if not isinstance(item, ICollider):\n",
    "            raise TypeError(f\"{item} is not a collider\")\n",
    "    return [\n",
    "        (item1, item2)\n",
    "        for item1, item2\n",
    "        in itertools.combinations(objects, 2)\n",
    "        if rects_collide(\n",
    "            item1.bounding_box,\n",
    "            item2.bounding_box\n",
    "        )\n",
    "    ]"
   ]
  },
  {
   "cell_type": "code",
   "execution_count": 58,
   "metadata": {},
   "outputs": [],
   "source": [
    "from collections import Counter\n",
    "from http import HTTPStatus\n",
    "from flask import Flask, request, Response\n",
    "app = Flask(__name__)\n",
    "storage = Counter()\n",
    "PIXEL = (\n",
    "    b'GIF89a\\x01\\x00\\x01\\x00\\x80\\x00\\x00\\x00'\n",
    "    b'\\x00\\x00\\xff\\xff\\xff!\\xf9\\x04\\x01\\x00'\n",
    "    b'\\x00\\x00\\x00,\\x00\\x00\\x00\\x00\\x01\\x00'\n",
    "    b'\\x01\\x00\\x00\\x02\\x01D\\x00;'\n",
    ")\n",
    "\n",
    "@app.route('/track')\n",
    "def track():\n",
    "    try:\n",
    "        referer = request.headers[\"Referer\"]\n",
    "    except KeyError:\n",
    "        return Response(status=HTTPStatus.BAD_REQUEST)\n",
    "    storage[referer] += 1\n",
    "    return Response(\n",
    "        PIXEL, headers={\n",
    "            \"Content-Type\": \"image/gif\",\n",
    "            \"Expires\": \"Mon, 01 Jan 1990 00:00:00 GMT\",\n",
    "            \"Cache-Control\": \"no-cache, no-store, must-revalidate\",\n",
    "            \"Pragma\": \"no-cache\",\n",
    "        }\n",
    "    )\n",
    "\n",
    "@app.route('/stats')\n",
    "def stats():\n",
    "    return dict(storage.most_common(10)"
   ]
  },
  {
   "cell_type": "code",
   "execution_count": 6,
   "metadata": {},
   "outputs": [
    {
     "name": "stdout",
     "output_type": "stream",
     "text": [
      "printing from thread\n",
      "printing from thread\n",
      "printing from thread\n",
      "printing from thread\n",
      "printing from thread\n",
      "printing from thread\n",
      "printing from thread\n",
      "printing from thread\n",
      "printing from thread\n",
      "printing from thread\n"
     ]
    }
   ],
   "source": [
    "from threading import Thread\n",
    "def my_function():\n",
    "    print(\"printing from thread\")\n",
    "\n",
    "threads = [Thread(target=my_function) for _ in range(10)]\n",
    "for thread in threads:\n",
    "    thread.start()\n",
    "for thread in threads:\n",
    "    thread.join()"
   ]
  },
  {
   "cell_type": "code",
   "execution_count": 11,
   "metadata": {},
   "outputs": [
    {
     "name": "stdout",
     "output_type": "stream",
     "text": [
      "thread_count=100, thread_visits=10000000\n"
     ]
    }
   ],
   "source": [
    "thread_visits = 0\n",
    "def visit_counter():\n",
    "    global thread_visits\n",
    "    for i in range(100_000):\n",
    "        value = thread_visits\n",
    "        thread_visits = value + 1\n",
    "if __name__ == \"__main__\":\n",
    "    thread_count = 100\n",
    "    threads = [\n",
    "        Thread(target=visit_counter)\n",
    "        for _ in range(thread_count)\n",
    "    ]\n",
    "    for thread in threads:\n",
    "        thread.start()\n",
    "    for thread in threads:\n",
    "        thread.join()\n",
    "    print(f\"{thread_count=}, {thread_visits=}\")\n",
    "\n",
    "\n",
    "    "
   ]
  },
  {
   "cell_type": "code",
   "execution_count": 12,
   "metadata": {},
   "outputs": [
    {
     "name": "stdout",
     "output_type": "stream",
     "text": [
      "1 USD =     1.0 USD,   0.939 EUR,    4.31 PLN,    10.7 NOK,    22.9 CZK\n",
      "1 EUR =    1.06 USD,     1.0 EUR,    4.59 PLN,    11.4 NOK,    24.4 CZK\n",
      "1 PLN =   0.232 USD,   0.218 EUR,     1.0 PLN,    2.49 NOK,     5.3 CZK\n",
      "1 NOK =  0.0932 USD,  0.0875 EUR,   0.402 PLN,     1.0 NOK,    2.13 CZK\n",
      "1 CZK =  0.0437 USD,  0.0411 EUR,   0.189 PLN,   0.469 NOK,     1.0 CZK\n",
      "\n",
      "time elapsed: 1.73s\n"
     ]
    }
   ],
   "source": [
    "import time\n",
    "from multiprocessing import Pool\n",
    "\n",
    "import requests\n",
    "\n",
    "\n",
    "SYMBOLS = (\"USD\", \"EUR\", \"PLN\", \"NOK\", \"CZK\")\n",
    "BASES = (\"USD\", \"EUR\", \"PLN\", \"NOK\", \"CZK\")\n",
    "\n",
    "POOL_SIZE = 4\n",
    "\n",
    "\n",
    "def fetch_rates(base):\n",
    "    response = requests.get(f\"https://api.vatcomply.com/rates?base={base}\")\n",
    "    response.raise_for_status()\n",
    "    rates = response.json()[\"rates\"]\n",
    "    # note: same currency exchanges to itself 1:1\n",
    "    rates[base] = 1.0\n",
    "    return base, rates\n",
    "\n",
    "\n",
    "def present_result(base, rates):\n",
    "    rates_line = \", \".join([f\"{rates[symbol]:7.03} {symbol}\" for symbol in SYMBOLS])\n",
    "    print(f\"1 {base} = {rates_line}\")\n",
    "\n",
    "\n",
    "def main():\n",
    "    with Pool(POOL_SIZE) as pool:\n",
    "        results = pool.map(fetch_rates, BASES)\n",
    "\n",
    "    for result in results:\n",
    "        present_result(*result)\n",
    "\n",
    "\n",
    "if __name__ == \"__main__\":\n",
    "    started = time.time()\n",
    "    main()\n",
    "    elapsed = time.time() - started\n",
    "\n",
    "    print()\n",
    "    print(\"time elapsed: {:.2f}s\".format(elapsed))\n"
   ]
  },
  {
   "cell_type": "code",
   "execution_count": 13,
   "metadata": {},
   "outputs": [
    {
     "name": "stdout",
     "output_type": "stream",
     "text": [
      "Hey, I am the process 0, pid: 162639\n",
      "Hey, I am the process 1, pid: 162642\n",
      "Hey, I am the process 2, pid: 162647\n",
      "Hey, I am the process 3, pid: 162652\n",
      "Hey, I am the process 4, pid: 162657\n"
     ]
    }
   ],
   "source": [
    "\"\"\"\n",
    "\"Multiprocessing\" section example showing how\n",
    "to create new processes with `multiprocessing` module\n",
    "\n",
    "\"\"\"\n",
    "from multiprocessing import Process\n",
    "import os\n",
    "\n",
    "\n",
    "def work(identifier):\n",
    "    print(f\"Hey, I am the process \" f\"{identifier}, pid: {os.getpid()}\")\n",
    "\n",
    "\n",
    "def main():\n",
    "    processes = [Process(target=work, args=(number,)) for number in range(5)]\n",
    "    for process in processes:\n",
    "        process.start()\n",
    "\n",
    "    while processes:\n",
    "        processes.pop().join()\n",
    "\n",
    "\n",
    "if __name__ == \"__main__\":\n",
    "    main()\n"
   ]
  },
  {
   "cell_type": "code",
   "execution_count": 1,
   "metadata": {},
   "outputs": [],
   "source": [
    "import asyncio\n",
    "import random\n",
    "\n",
    "\n",
    "async def print_number(number):\n",
    "    await asyncio.sleep(0)\n",
    "    print(number)\n"
   ]
  },
  {
   "cell_type": "code",
   "execution_count": 2,
   "metadata": {},
   "outputs": [
    {
     "ename": "RuntimeError",
     "evalue": "This event loop is already running",
     "output_type": "error",
     "traceback": [
      "\u001b[0;31m---------------------------------------------------------------------------\u001b[0m",
      "\u001b[0;31mRuntimeError\u001b[0m                              Traceback (most recent call last)",
      "\u001b[1;32m/home/richard/Dev/ExPy/ExPy.ipynb Cell 41\u001b[0m line \u001b[0;36m3\n\u001b[1;32m      <a href='vscode-notebook-cell:/home/richard/Dev/ExPy/ExPy.ipynb#X56sZmlsZQ%3D%3D?line=0'>1</a>\u001b[0m loop \u001b[39m=\u001b[39m asyncio\u001b[39m.\u001b[39mget_event_loop()\n\u001b[0;32m----> <a href='vscode-notebook-cell:/home/richard/Dev/ExPy/ExPy.ipynb#X56sZmlsZQ%3D%3D?line=2'>3</a>\u001b[0m loop\u001b[39m.\u001b[39;49mrun_until_complete(\n\u001b[1;32m      <a href='vscode-notebook-cell:/home/richard/Dev/ExPy/ExPy.ipynb#X56sZmlsZQ%3D%3D?line=3'>4</a>\u001b[0m     asyncio\u001b[39m.\u001b[39;49mgather(\u001b[39m*\u001b[39;49m[print_number(number) \u001b[39mfor\u001b[39;49;00m number \u001b[39min\u001b[39;49;00m \u001b[39mrange\u001b[39;49m(\u001b[39m10\u001b[39;49m)])\n\u001b[1;32m      <a href='vscode-notebook-cell:/home/richard/Dev/ExPy/ExPy.ipynb#X56sZmlsZQ%3D%3D?line=4'>5</a>\u001b[0m )\n\u001b[1;32m      <a href='vscode-notebook-cell:/home/richard/Dev/ExPy/ExPy.ipynb#X56sZmlsZQ%3D%3D?line=5'>6</a>\u001b[0m loop\u001b[39m.\u001b[39mclose()\n",
      "File \u001b[0;32m/usr/lib/python3.10/asyncio/base_events.py:625\u001b[0m, in \u001b[0;36mBaseEventLoop.run_until_complete\u001b[0;34m(self, future)\u001b[0m\n\u001b[1;32m    614\u001b[0m \u001b[39m\u001b[39m\u001b[39m\"\"\"Run until the Future is done.\u001b[39;00m\n\u001b[1;32m    615\u001b[0m \n\u001b[1;32m    616\u001b[0m \u001b[39mIf the argument is a coroutine, it is wrapped in a Task.\u001b[39;00m\n\u001b[0;32m   (...)\u001b[0m\n\u001b[1;32m    622\u001b[0m \u001b[39mReturn the Future's result, or raise its exception.\u001b[39;00m\n\u001b[1;32m    623\u001b[0m \u001b[39m\"\"\"\u001b[39;00m\n\u001b[1;32m    624\u001b[0m \u001b[39mself\u001b[39m\u001b[39m.\u001b[39m_check_closed()\n\u001b[0;32m--> 625\u001b[0m \u001b[39mself\u001b[39;49m\u001b[39m.\u001b[39;49m_check_running()\n\u001b[1;32m    627\u001b[0m new_task \u001b[39m=\u001b[39m \u001b[39mnot\u001b[39;00m futures\u001b[39m.\u001b[39misfuture(future)\n\u001b[1;32m    628\u001b[0m future \u001b[39m=\u001b[39m tasks\u001b[39m.\u001b[39mensure_future(future, loop\u001b[39m=\u001b[39m\u001b[39mself\u001b[39m)\n",
      "File \u001b[0;32m/usr/lib/python3.10/asyncio/base_events.py:584\u001b[0m, in \u001b[0;36mBaseEventLoop._check_running\u001b[0;34m(self)\u001b[0m\n\u001b[1;32m    582\u001b[0m \u001b[39mdef\u001b[39;00m \u001b[39m_check_running\u001b[39m(\u001b[39mself\u001b[39m):\n\u001b[1;32m    583\u001b[0m     \u001b[39mif\u001b[39;00m \u001b[39mself\u001b[39m\u001b[39m.\u001b[39mis_running():\n\u001b[0;32m--> 584\u001b[0m         \u001b[39mraise\u001b[39;00m \u001b[39mRuntimeError\u001b[39;00m(\u001b[39m'\u001b[39m\u001b[39mThis event loop is already running\u001b[39m\u001b[39m'\u001b[39m)\n\u001b[1;32m    585\u001b[0m     \u001b[39mif\u001b[39;00m events\u001b[39m.\u001b[39m_get_running_loop() \u001b[39mis\u001b[39;00m \u001b[39mnot\u001b[39;00m \u001b[39mNone\u001b[39;00m:\n\u001b[1;32m    586\u001b[0m         \u001b[39mraise\u001b[39;00m \u001b[39mRuntimeError\u001b[39;00m(\n\u001b[1;32m    587\u001b[0m             \u001b[39m'\u001b[39m\u001b[39mCannot run the event loop while another loop is running\u001b[39m\u001b[39m'\u001b[39m)\n",
      "\u001b[0;31mRuntimeError\u001b[0m: This event loop is already running"
     ]
    },
    {
     "name": "stdout",
     "output_type": "stream",
     "text": [
      "0\n",
      "1\n",
      "2\n",
      "3\n",
      "4\n",
      "5\n",
      "6\n",
      "7\n",
      "8\n",
      "9\n"
     ]
    }
   ],
   "source": [
    "loop = asyncio.get_event_loop()\n",
    "\n",
    "loop.run_until_complete(\n",
    "    asyncio.gather(*[print_number(number) for number in range(10)])\n",
    ")\n",
    "loop.close()"
   ]
  },
  {
   "cell_type": "code",
   "execution_count": 3,
   "metadata": {},
   "outputs": [],
   "source": [
    "import asyncio\n",
    "import random\n",
    "import time\n",
    "\n",
    "\n",
    "async def waiter(name):\n",
    "    for _ in range(4):\n",
    "        time_to_sleep = random.randint(1, 3) / 4\n",
    "        time.sleep(time_to_sleep)\n",
    "        print(f\"{name} waited {time_to_sleep} seconds\")\n",
    "\n"
   ]
  },
  {
   "cell_type": "code",
   "execution_count": 4,
   "metadata": {},
   "outputs": [
    {
     "ename": "RuntimeError",
     "evalue": "This event loop is already running",
     "output_type": "error",
     "traceback": [
      "\u001b[0;31m---------------------------------------------------------------------------\u001b[0m",
      "\u001b[0;31mRuntimeError\u001b[0m                              Traceback (most recent call last)",
      "\u001b[1;32m/home/richard/Dev/ExPy/ExPy.ipynb Cell 43\u001b[0m line \u001b[0;36m2\n\u001b[1;32m      <a href='vscode-notebook-cell:/home/richard/Dev/ExPy/ExPy.ipynb#X61sZmlsZQ%3D%3D?line=0'>1</a>\u001b[0m loop \u001b[39m=\u001b[39m asyncio\u001b[39m.\u001b[39mget_event_loop()\n\u001b[0;32m----> <a href='vscode-notebook-cell:/home/richard/Dev/ExPy/ExPy.ipynb#X61sZmlsZQ%3D%3D?line=1'>2</a>\u001b[0m loop\u001b[39m.\u001b[39;49mrun_until_complete(asyncio\u001b[39m.\u001b[39;49mgather(waiter(\u001b[39m\"\u001b[39;49m\u001b[39mfirst\u001b[39;49m\u001b[39m\"\u001b[39;49m), waiter(\u001b[39m\"\u001b[39;49m\u001b[39msecond\u001b[39;49m\u001b[39m\"\u001b[39;49m)))\n\u001b[1;32m      <a href='vscode-notebook-cell:/home/richard/Dev/ExPy/ExPy.ipynb#X61sZmlsZQ%3D%3D?line=2'>3</a>\u001b[0m loop\u001b[39m.\u001b[39mclose()\n",
      "File \u001b[0;32m/usr/lib/python3.10/asyncio/base_events.py:625\u001b[0m, in \u001b[0;36mBaseEventLoop.run_until_complete\u001b[0;34m(self, future)\u001b[0m\n\u001b[1;32m    614\u001b[0m \u001b[39m\u001b[39m\u001b[39m\"\"\"Run until the Future is done.\u001b[39;00m\n\u001b[1;32m    615\u001b[0m \n\u001b[1;32m    616\u001b[0m \u001b[39mIf the argument is a coroutine, it is wrapped in a Task.\u001b[39;00m\n\u001b[0;32m   (...)\u001b[0m\n\u001b[1;32m    622\u001b[0m \u001b[39mReturn the Future's result, or raise its exception.\u001b[39;00m\n\u001b[1;32m    623\u001b[0m \u001b[39m\"\"\"\u001b[39;00m\n\u001b[1;32m    624\u001b[0m \u001b[39mself\u001b[39m\u001b[39m.\u001b[39m_check_closed()\n\u001b[0;32m--> 625\u001b[0m \u001b[39mself\u001b[39;49m\u001b[39m.\u001b[39;49m_check_running()\n\u001b[1;32m    627\u001b[0m new_task \u001b[39m=\u001b[39m \u001b[39mnot\u001b[39;00m futures\u001b[39m.\u001b[39misfuture(future)\n\u001b[1;32m    628\u001b[0m future \u001b[39m=\u001b[39m tasks\u001b[39m.\u001b[39mensure_future(future, loop\u001b[39m=\u001b[39m\u001b[39mself\u001b[39m)\n",
      "File \u001b[0;32m/usr/lib/python3.10/asyncio/base_events.py:584\u001b[0m, in \u001b[0;36mBaseEventLoop._check_running\u001b[0;34m(self)\u001b[0m\n\u001b[1;32m    582\u001b[0m \u001b[39mdef\u001b[39;00m \u001b[39m_check_running\u001b[39m(\u001b[39mself\u001b[39m):\n\u001b[1;32m    583\u001b[0m     \u001b[39mif\u001b[39;00m \u001b[39mself\u001b[39m\u001b[39m.\u001b[39mis_running():\n\u001b[0;32m--> 584\u001b[0m         \u001b[39mraise\u001b[39;00m \u001b[39mRuntimeError\u001b[39;00m(\u001b[39m'\u001b[39m\u001b[39mThis event loop is already running\u001b[39m\u001b[39m'\u001b[39m)\n\u001b[1;32m    585\u001b[0m     \u001b[39mif\u001b[39;00m events\u001b[39m.\u001b[39m_get_running_loop() \u001b[39mis\u001b[39;00m \u001b[39mnot\u001b[39;00m \u001b[39mNone\u001b[39;00m:\n\u001b[1;32m    586\u001b[0m         \u001b[39mraise\u001b[39;00m \u001b[39mRuntimeError\u001b[39;00m(\n\u001b[1;32m    587\u001b[0m             \u001b[39m'\u001b[39m\u001b[39mCannot run the event loop while another loop is running\u001b[39m\u001b[39m'\u001b[39m)\n",
      "\u001b[0;31mRuntimeError\u001b[0m: This event loop is already running"
     ]
    },
    {
     "name": "stdout",
     "output_type": "stream",
     "text": [
      "first waited 0.25 seconds\n",
      "first waited 0.75 seconds\n",
      "first waited 0.25 seconds\n",
      "first waited 0.25 seconds\n",
      "second waited 0.5 seconds\n",
      "second waited 0.5 seconds\n",
      "second waited 0.5 seconds\n",
      "second waited 0.25 seconds\n"
     ]
    }
   ],
   "source": [
    "loop = asyncio.get_event_loop()\n",
    "loop.run_until_complete(asyncio.gather(waiter(\"first\"), waiter(\"second\")))\n",
    "loop.close()\n"
   ]
  },
  {
   "cell_type": "code",
   "execution_count": 7,
   "metadata": {},
   "outputs": [],
   "source": [
    "import os\n",
    "import sys\n",
    "import re\n",
    "from abc import ABC, abstractmethod\n",
    "from glob import glob\n",
    "\n",
    "\n",
    "class ObserverABC(ABC):\n",
    "    @abstractmethod\n",
    "    def notify(self, event):\n",
    "        ...\n",
    "\n",
    "\n",
    "class SubjectABC(ABC):\n",
    "    @abstractmethod\n",
    "    def register(self, observer: ObserverABC):\n",
    "        ...\n",
    "\n",
    "\n",
    "class Grepper(SubjectABC):\n",
    "    _observers: list[ObserverABC]\n",
    "\n",
    "    def __init__(self):\n",
    "        self._observers = []\n",
    "\n",
    "    def register(self, observer: ObserverABC):\n",
    "        self._observers.append(observer)\n",
    "\n",
    "    def notify_observers(self, path):\n",
    "        for observer in self._observers:\n",
    "            observer.notify(path)\n",
    "\n",
    "    def grep(self, path: str, pattern: str):\n",
    "        r = re.compile(pattern)\n",
    "\n",
    "        for item in glob(path, recursive=True):\n",
    "            if not os.path.isfile(item):\n",
    "                continue\n",
    "\n",
    "            try:\n",
    "                with open(item) as f:\n",
    "                    self.notify_observers((\"opened\", item))\n",
    "                    if r.findall(f.read()):\n",
    "                        self.notify_observers((\"matched\", item))\n",
    "            finally:\n",
    "                self.notify_observers((\"closed\", item))\n",
    "\n",
    "\n",
    "class Presenter(ObserverABC):\n",
    "    def notify(self, event):\n",
    "        event_type, file = event\n",
    "        if event_type == \"matched\":\n",
    "            print(f\"Found in: {file}\")\n",
    "\n",
    "\n",
    "class Auditor(ObserverABC):\n",
    "    def notify(self, event):\n",
    "        event_type, file = event\n",
    "        print(f\"{event_type:8}: {file}\")\n",
    "\n",
    "\n",
    "\n",
    "\n",
    "# >>> from subject_based_events import Subject\n",
    "# >>> subject = Subject()\n",
    "# >>> observer1 = Observer()\n",
    "# >>> observer2 = Observer()\n",
    "# >>> observer3 = Observer()\n",
    "# >>> subject.register(observer1)\n",
    "# >>> subject.register(observer2)\n",
    "# <Observer: 1>: received event 'register(<Observer: 2>)' from <Subject: 1>\n",
    "# >>> subject.register(observer3)\n",
    "# <Observer: 1>: received event 'register(<Observer: 3>)' from <Subject: 1>\n",
    "# <Observer: 2>: received event 'register(<Observer: 3>)' from <Subject: 1>\n"
   ]
  },
  {
   "cell_type": "code",
   "execution_count": 8,
   "metadata": {},
   "outputs": [],
   "source": [
    "import itertools\n",
    "\n",
    "from blinker import signal\n",
    "\n",
    "\n",
    "class SelfWatch:\n",
    "    _new_id = itertools.count(1)\n",
    "\n",
    "    def __init__(self):\n",
    "        self._id = next(self._new_id)\n",
    "        init_signal = signal(\"SelfWatch.init\")\n",
    "        init_signal.send(self)\n",
    "        init_signal.connect(self.receiver)\n",
    "\n",
    "    def receiver(self, sender):\n",
    "        print(f\"{self}: received event from {sender}\")\n",
    "\n",
    "    def __str__(self):\n",
    "        return f\"<{self.__class__.__name__}: {self._id}>\"\n",
    "\n",
    "\n",
    "# >>> from topic_based_events import SelfWatch\n",
    "# >>> selfwatch1 = SelfWatch()\n",
    "# >>> selfwatch2 = SelfWatch()\n",
    "# <SelfWatch: 1>: received event from <SelfWatch: 2>\n",
    "# >>> selfwatch3 = SelfWatch()\n",
    "# <SelfWatch: 2>: received event from <SelfWatch: 3>\n",
    "# <SelfWatch: 1>: received event from <SelfWatch: 3>\n",
    "# >>> selfwatch4 = SelfWatch()\n",
    "# <SelfWatch: 2>: received event from <SelfWatch: 4>\n",
    "# <SelfWatch: 3>: received event from <SelfWatch: 4>\n",
    "# <SelfWatch: 1>: received event from <SelfWatch: 4>\n"
   ]
  },
  {
   "cell_type": "code",
   "execution_count": 9,
   "metadata": {},
   "outputs": [
    {
     "name": "stdout",
     "output_type": "stream",
     "text": [
      "<SelfWatch: 1>: received event from <SelfWatch: 2>\n"
     ]
    }
   ],
   "source": [
    "selfwatch1 = SelfWatch()\n",
    "selfwatch2 = SelfWatch()"
   ]
  },
  {
   "cell_type": "code",
   "execution_count": 10,
   "metadata": {},
   "outputs": [
    {
     "name": "stdout",
     "output_type": "stream",
     "text": [
      "<SelfWatch: 2>: received event from <SelfWatch: 3>\n",
      "<SelfWatch: 1>: received event from <SelfWatch: 3>\n"
     ]
    }
   ],
   "source": [
    "selfwatch3 = SelfWatch()"
   ]
  },
  {
   "cell_type": "code",
   "execution_count": 11,
   "metadata": {},
   "outputs": [
    {
     "name": "stdout",
     "output_type": "stream",
     "text": [
      "<SelfWatch: 2>: received event from <SelfWatch: 4>\n",
      "<SelfWatch: 3>: received event from <SelfWatch: 4>\n",
      "<SelfWatch: 1>: received event from <SelfWatch: 4>\n"
     ]
    }
   ],
   "source": [
    "selfwatch4 = SelfWatch()"
   ]
  },
  {
   "cell_type": "code",
   "execution_count": 12,
   "metadata": {},
   "outputs": [],
   "source": [
    "from typing import Any, Iterable\n",
    "\n",
    "UNSET = object()\n",
    "\n",
    "\n",
    "def repr_instance(instance: object, attrs: Iterable[str]):\n",
    "    attr_values: dict[str, Any] = {\n",
    "        attr: getattr(instance, attr, UNSET) for attr in attrs\n",
    "    }\n",
    "    sub_repr = \", \".join(\n",
    "        f\"{attr}={repr(val) if val is not UNSET else 'UNSET'}\"\n",
    "        for attr, val in attr_values.items()\n",
    "    )\n",
    "    return f\"<{instance.__class__.__qualname__}: {sub_repr}>\"\n",
    "\n",
    "\n"
   ]
  },
  {
   "cell_type": "code",
   "execution_count": 13,
   "metadata": {},
   "outputs": [
    {
     "data": {
      "text/plain": [
       "'<complex: real=1.0, imag=10.0>'"
      ]
     },
     "execution_count": 13,
     "metadata": {},
     "output_type": "execute_result"
    }
   ],
   "source": [
    "repr_instance(1+10j, [\"real\", \"imag\"])"
   ]
  },
  {
   "cell_type": "code",
   "execution_count": 14,
   "metadata": {},
   "outputs": [],
   "source": [
    "def autorepr(cls):\n",
    "    attrs = set.union(\n",
    "        *(\n",
    "            set(c.__annotations__.keys())\n",
    "            for c in cls.mro()\n",
    "            if hasattr(c, \"__annotations__\")\n",
    "        )\n",
    "    )\n",
    "\n",
    "    def __repr__(self):\n",
    "        return repr_instance(self, sorted(attrs))\n",
    "\n",
    "    cls.__repr__ = __repr__\n",
    "    return cls\n"
   ]
  },
  {
   "cell_type": "code",
   "execution_count": 15,
   "metadata": {},
   "outputs": [],
   "source": [
    "@autorepr\n",
    "class MyClass:\n",
    "    attr_a: Any\n",
    "    attr_b: Any\n",
    "    attr_c: Any\n",
    "\n",
    "    def __init__(self, a, b):\n",
    "        self.attr_a = a\n",
    "        self.attr_b = b\n"
   ]
  },
  {
   "cell_type": "code",
   "execution_count": 16,
   "metadata": {},
   "outputs": [
    {
     "name": "stdout",
     "output_type": "stream",
     "text": [
      "<MyClass: attr_a='Ultimate answer', attr_b=42, attr_c=UNSET>\n",
      "<MyClass: attr_a=[1, 2, 3], attr_b=['a', 'b', 'c'], attr_c=UNSET>\n"
     ]
    }
   ],
   "source": [
    "print(MyClass(\"Ultimate answer\", 42))\n",
    "print(MyClass([1, 2, 3], [\"a\", \"b\", \"c\"]))\n"
   ]
  },
  {
   "cell_type": "code",
   "execution_count": 17,
   "metadata": {},
   "outputs": [
    {
     "data": {
      "text/plain": [
       "<MyClass: attr_a=None, attr_b=None, attr_c=None>"
      ]
     },
     "execution_count": 17,
     "metadata": {},
     "output_type": "execute_result"
    }
   ],
   "source": [
    "instance = MyClass(None, None)\n",
    "instance.attr_c = None\n",
    "instance"
   ]
  },
  {
   "cell_type": "code",
   "execution_count": 18,
   "metadata": {},
   "outputs": [],
   "source": [
    "class NonZero(int): \n",
    "    def __new__(cls, value): \n",
    "        return super().__new__(cls, value) if value != 0 else None \n",
    "\n",
    "    def __init__(self, skipped_value):  \n",
    "        print(\"__init__() called\") \n",
    "        super().__init__()"
   ]
  },
  {
   "cell_type": "code",
   "execution_count": 19,
   "metadata": {},
   "outputs": [
    {
     "name": "stdout",
     "output_type": "stream",
     "text": [
      "__init__() called\n"
     ]
    },
    {
     "data": {
      "text/plain": [
       "__main__.NonZero"
      ]
     },
     "execution_count": 19,
     "metadata": {},
     "output_type": "execute_result"
    }
   ],
   "source": [
    "type(NonZero(-12))"
   ]
  },
  {
   "cell_type": "code",
   "execution_count": 20,
   "metadata": {},
   "outputs": [
    {
     "data": {
      "text/plain": [
       "NoneType"
      ]
     },
     "execution_count": 20,
     "metadata": {},
     "output_type": "execute_result"
    }
   ],
   "source": [
    "type(NonZero(0))"
   ]
  },
  {
   "cell_type": "code",
   "execution_count": 22,
   "metadata": {},
   "outputs": [
    {
     "name": "stdout",
     "output_type": "stream",
     "text": [
      "__init__() called\n"
     ]
    },
    {
     "data": {
      "text/plain": [
       "-3"
      ]
     },
     "execution_count": 22,
     "metadata": {},
     "output_type": "execute_result"
    }
   ],
   "source": [
    "NonZero(-3.123)"
   ]
  },
  {
   "cell_type": "code",
   "execution_count": 23,
   "metadata": {},
   "outputs": [],
   "source": [
    "\"\"\"\n",
    "class Metaclass(type): \n",
    "    def __new__(mcs, name, bases, namespace): \n",
    "        return super().__new__(mcs, name, bases, namespace) \n",
    " \n",
    "    @classmethod \n",
    "    def __prepare__(mcs, name, bases, **kwargs): \n",
    "        return super().__prepare__(name, bases, **kwargs) \n",
    " \n",
    "    def __init__(cls, name, bases, namespace, **kwargs): \n",
    "        super().__init__(name, bases, namespace) \n",
    " \n",
    "    def __call__(cls, *args, **kwargs): \n",
    "        return super().__call__(*args, **kwargs) \n",
    "\n",
    "\"\"\""
   ]
  },
  {
   "cell_type": "code",
   "execution_count": 24,
   "metadata": {},
   "outputs": [],
   "source": [
    "class RevealingMeta(type): \n",
    "    def __new__(mcs, name, bases, namespace, **kwargs): \n",
    "        print(mcs, \"METACLASS __new__ called\") \n",
    "        return super().__new__(mcs, name, bases, namespace) \n",
    " \n",
    "    @classmethod \n",
    "    def __prepare__(mcs, name, bases, **kwargs): \n",
    "        print(mcs, \" METACLASS __prepare__ called\") \n",
    "        return super().__prepare__(name, bases, **kwargs) \n",
    " \n",
    "    def __init__(cls, name, bases, namespace, **kwargs): \n",
    "        print(cls, \" METACLASS __init__ called\") \n",
    "        super().__init__(name, bases, namespace) \n",
    " \n",
    "    def __call__(cls, *args, **kwargs): \n",
    "        print(cls, \" METACLASS __call__ called\") \n",
    "        return super().__call__(*args, **kwargs) \n"
   ]
  },
  {
   "cell_type": "code",
   "execution_count": 25,
   "metadata": {},
   "outputs": [
    {
     "name": "stdout",
     "output_type": "stream",
     "text": [
      "<class '__main__.RevealingMeta'>  METACLASS __prepare__ called\n",
      "<class '__main__.RevealingMeta'> METACLASS __new__ called\n",
      "<class '__main__.RevealingClass'>  METACLASS __init__ called\n"
     ]
    }
   ],
   "source": [
    "class RevealingClass(metaclass=RevealingMeta):\n",
    "    def __new__(cls):\n",
    "        print(cls, \"__new__ called\")\n",
    "        return super().__new__(cls)\n",
    "    def __init__(self):\n",
    "        print(self, \"__init__ called\")\n",
    "        super().__init__()"
   ]
  },
  {
   "cell_type": "code",
   "execution_count": 26,
   "metadata": {},
   "outputs": [
    {
     "name": "stdout",
     "output_type": "stream",
     "text": [
      "<class '__main__.RevealingClass'>  METACLASS __call__ called\n",
      "<class '__main__.RevealingClass'> __new__ called\n",
      "<__main__.RevealingClass object at 0x7f4da54e07f0> __init__ called\n"
     ]
    }
   ],
   "source": [
    "instance = RevealingClass()"
   ]
  },
  {
   "cell_type": "code",
   "execution_count": 27,
   "metadata": {},
   "outputs": [],
   "source": [
    "from typing import Any\n",
    "import inflection\n",
    "\n",
    "\n",
    "class CaseInterpolationDict(dict):\n",
    "    def __setitem__(self, key: str, value: Any):\n",
    "        super().__setitem__(key, value)\n",
    "        super().__setitem__(inflection.underscore(key), value)\n",
    "\n",
    "\n",
    "class CaseInterpolatedMeta(type):\n",
    "    @classmethod\n",
    "    def __prepare__(mcs, name, bases):\n",
    "        return CaseInterpolationDict()\n",
    "\n",
    "\n",
    "class User(metaclass=CaseInterpolatedMeta):\n",
    "    def __init__(self, firstName: str, lastName: str):\n",
    "        self.firstName = firstName\n",
    "        self.lastName = lastName\n",
    "\n",
    "    def getDisplayName(self):\n",
    "        return f\"{self.firstName} {self.lastName}\"\n",
    "\n",
    "    def greetUser(self):\n",
    "        return f\"Hello {self.getDisplayName()}!\"\n"
   ]
  },
  {
   "cell_type": "code",
   "execution_count": 28,
   "metadata": {},
   "outputs": [
    {
     "data": {
      "text/plain": [
       "mappingproxy({'__module__': '__main__',\n",
       "              '__init__': <function __main__.User.__init__(self, firstName: str, lastName: str)>,\n",
       "              'getDisplayName': <function __main__.User.getDisplayName(self)>,\n",
       "              'get_display_name': <function __main__.User.getDisplayName(self)>,\n",
       "              'greetUser': <function __main__.User.greetUser(self)>,\n",
       "              'greet_user': <function __main__.User.greetUser(self)>,\n",
       "              '__dict__': <attribute '__dict__' of 'User' objects>,\n",
       "              '__weakref__': <attribute '__weakref__' of 'User' objects>,\n",
       "              '__doc__': None})"
      ]
     },
     "execution_count": 28,
     "metadata": {},
     "output_type": "execute_result"
    }
   ],
   "source": [
    "User.__dict__"
   ]
  },
  {
   "cell_type": "code",
   "execution_count": 29,
   "metadata": {},
   "outputs": [
    {
     "data": {
      "text/plain": [
       "'John Doe'"
      ]
     },
     "execution_count": 29,
     "metadata": {},
     "output_type": "execute_result"
    }
   ],
   "source": [
    "user = User(\"John\", \"Doe\")\n",
    "user.getDisplayName()"
   ]
  },
  {
   "cell_type": "code",
   "execution_count": 30,
   "metadata": {},
   "outputs": [
    {
     "data": {
      "text/plain": [
       "'John Doe'"
      ]
     },
     "execution_count": 30,
     "metadata": {},
     "output_type": "execute_result"
    }
   ],
   "source": [
    "user.get_display_name()"
   ]
  },
  {
   "cell_type": "code",
   "execution_count": 32,
   "metadata": {},
   "outputs": [
    {
     "data": {
      "text/plain": [
       "'Hello John Doe!'"
      ]
     },
     "execution_count": 32,
     "metadata": {},
     "output_type": "execute_result"
    }
   ],
   "source": [
    "user.greetUser()\n"
   ]
  },
  {
   "cell_type": "code",
   "execution_count": 33,
   "metadata": {},
   "outputs": [
    {
     "data": {
      "text/plain": [
       "'Hello John Doe!'"
      ]
     },
     "execution_count": 33,
     "metadata": {},
     "output_type": "execute_result"
    }
   ],
   "source": [
    "user.greet_user()"
   ]
  },
  {
   "cell_type": "code",
   "execution_count": 34,
   "metadata": {},
   "outputs": [],
   "source": [
    "from typing import Any\n",
    "@autorepr\n",
    "class MyClass:\n",
    "    attr_a: Any\n",
    "    attr_b: Any\n",
    "    attr_c: Any\n",
    "    def __init__(self, a, b):\n",
    "        self.attr_a = a\n",
    "        self.attr_b = b\n",
    "class MyChildClass(MyClass):\n",
    "    attr_d: Any\n",
    "    def __init__(self, a, b):\n",
    "        super().__init__(a, b)"
   ]
  },
  {
   "cell_type": "code",
   "execution_count": 38,
   "metadata": {},
   "outputs": [],
   "source": [
    "ms = MyChildClass(1,2)"
   ]
  },
  {
   "cell_type": "code",
   "execution_count": 39,
   "metadata": {},
   "outputs": [
    {
     "name": "stdout",
     "output_type": "stream",
     "text": [
      "<MyChildClass: attr_a=1, attr_b=2, attr_c=UNSET>\n"
     ]
    }
   ],
   "source": [
    "print(ms)"
   ]
  },
  {
   "cell_type": "code",
   "execution_count": 40,
   "metadata": {},
   "outputs": [
    {
     "data": {
      "text/plain": [
       "<ast.Module at 0x7f4da53478e0>"
      ]
     },
     "execution_count": 40,
     "metadata": {},
     "output_type": "execute_result"
    }
   ],
   "source": [
    "import ast\n",
    "tree = ast.parse('def hello_world(): print(\"hello world!\")')\n",
    "tree"
   ]
  },
  {
   "cell_type": "code",
   "execution_count": 41,
   "metadata": {},
   "outputs": [
    {
     "name": "stdout",
     "output_type": "stream",
     "text": [
      "Module(\n",
      "    body=[\n",
      "        FunctionDef(\n",
      "            name='hello_world',\n",
      "            args=arguments(\n",
      "                posonlyargs=[],\n",
      "                args=[],\n",
      "                kwonlyargs=[],\n",
      "                kw_defaults=[],\n",
      "                defaults=[]),\n",
      "            body=[\n",
      "                Expr(\n",
      "                    value=Call(\n",
      "                        func=Name(id='print', ctx=Load()),\n",
      "                        args=[\n",
      "                            Constant(value='hello world!')],\n",
      "                        keywords=[]))],\n",
      "            decorator_list=[])],\n",
      "    type_ignores=[])\n"
     ]
    }
   ],
   "source": [
    "print(ast.dump(tree, indent=4))"
   ]
  },
  {
   "cell_type": "code",
   "execution_count": 42,
   "metadata": {},
   "outputs": [
    {
     "name": "stderr",
     "output_type": "stream",
     "text": [
      "/home/richard/.local/lib/python3.10/site-packages/IPython/core/interactiveshell.py:3508: DeprecatedWarning: Call to deprecated function __init__(...). API class may be removed in a future release, use falcon.App instead.\n",
      "  exec(code_obj, self.user_global_ns, self.user_ns)\n"
     ]
    }
   ],
   "source": [
    "import falcon \n",
    "import json \n",
    "  \n",
    "class QuoteResource: \n",
    "    def on_get(self, req, resp): \n",
    "        \"\"\"Handles GET requests\"\"\" \n",
    "        quote = { \n",
    "            'quote': 'I\\'ve always been more interested in ' \n",
    "                     'the future than in the past.', \n",
    "            'author': 'Grace Hopper' \n",
    "        } \n",
    " \n",
    "        resp.body = json.dumps(quote) \n",
    "  \n",
    "api = falcon.API() \n",
    "api.add_route('/quote', QuoteResource())"
   ]
  },
  {
   "cell_type": "code",
   "execution_count": 43,
   "metadata": {},
   "outputs": [
    {
     "data": {
      "text/plain": [
       "<code object _compile_and_find at 0x7f4da50754d0, file \"falcon/routing/compiled.py\", line 626>"
      ]
     },
     "execution_count": 43,
     "metadata": {},
     "output_type": "execute_result"
    }
   ],
   "source": [
    "api._router._find.__code__"
   ]
  },
  {
   "cell_type": "code",
   "execution_count": 44,
   "metadata": {},
   "outputs": [
    {
     "data": {
      "text/plain": [
       "<code object _compile_and_find at 0x7f4da50754d0, file \"falcon/routing/compiled.py\", line 626>"
      ]
     },
     "execution_count": 44,
     "metadata": {},
     "output_type": "execute_result"
    }
   ],
   "source": [
    "api.add_route('/none', None)\n",
    "api._router._find.__code__"
   ]
  },
  {
   "cell_type": "code",
   "execution_count": 45,
   "metadata": {},
   "outputs": [
    {
     "data": {
      "text/plain": [
       "b'/home/richard/Dev/ExPy'"
      ]
     },
     "execution_count": 45,
     "metadata": {},
     "output_type": "execute_result"
    }
   ],
   "source": [
    "os.getcwdb()"
   ]
  },
  {
   "cell_type": "code",
   "execution_count": 46,
   "metadata": {},
   "outputs": [
    {
     "name": "stdout",
     "output_type": "stream",
     "text": [
      "hello world!\n"
     ]
    }
   ],
   "source": [
    "import hy\n",
    "import hyllo\n",
    "hyllo.hello()"
   ]
  },
  {
   "cell_type": "code",
   "execution_count": 47,
   "metadata": {},
   "outputs": [
    {
     "name": "stdout",
     "output_type": "stream",
     "text": [
      "  2           0 LOAD_GLOBAL              0 (print)\n",
      "              2 LOAD_CONST               1 ('hello world!')\n",
      "              4 CALL_FUNCTION            1\n",
      "              6 RETURN_VALUE\n"
     ]
    }
   ],
   "source": [
    "import dis\n",
    "dis.dis(hyllo.hello)"
   ]
  },
  {
   "cell_type": "code",
   "execution_count": 48,
   "metadata": {},
   "outputs": [
    {
     "name": "stdout",
     "output_type": "stream",
     "text": [
      "  1           0 LOAD_GLOBAL              0 (print)\n",
      "              2 LOAD_CONST               1 ('hello world!')\n",
      "              4 CALL_FUNCTION            1\n",
      "              6 POP_TOP\n",
      "              8 LOAD_CONST               0 (None)\n",
      "             10 RETURN_VALUE\n"
     ]
    }
   ],
   "source": [
    "def hello(): print(\"hello world!\")\n",
    "dis.dis(hello)"
   ]
  },
  {
   "cell_type": "code",
   "execution_count": 4,
   "metadata": {},
   "outputs": [],
   "source": [
    "def fibonacci(n):\n",
    "    \"\"\"Return nth Fibonacci sequence number computed recursively.\"\"\"\n",
    "    if n == 0:\n",
    "        return 0\n",
    "    if n == 1:\n",
    "        return 1\n",
    "    else:\n",
    "        return fibonacci(n - 1) + fibonacci(n - 2)\n"
   ]
  },
  {
   "cell_type": "code",
   "execution_count": 5,
   "metadata": {},
   "outputs": [
    {
     "data": {
      "text/plain": [
       "610"
      ]
     },
     "execution_count": 5,
     "metadata": {},
     "output_type": "execute_result"
    }
   ],
   "source": [
    "fibonacci(15)"
   ]
  },
  {
   "cell_type": "code",
   "execution_count": 6,
   "metadata": {},
   "outputs": [
    {
     "data": {
      "text/plain": [
       "832040"
      ]
     },
     "execution_count": 6,
     "metadata": {},
     "output_type": "execute_result"
    }
   ],
   "source": [
    "fibonacci(30)"
   ]
  },
  {
   "cell_type": "code",
   "execution_count": 8,
   "metadata": {},
   "outputs": [
    {
     "data": {
      "text/plain": [
       "102334155"
      ]
     },
     "execution_count": 8,
     "metadata": {},
     "output_type": "execute_result"
    }
   ],
   "source": [
    "fibonacci(40)"
   ]
  },
  {
   "cell_type": "code",
   "execution_count": null,
   "metadata": {},
   "outputs": [],
   "source": []
  }
 ],
 "metadata": {
  "kernelspec": {
   "display_name": "Python 3",
   "language": "python",
   "name": "python3"
  },
  "language_info": {
   "codemirror_mode": {
    "name": "ipython",
    "version": 3
   },
   "file_extension": ".py",
   "mimetype": "text/x-python",
   "name": "python",
   "nbconvert_exporter": "python",
   "pygments_lexer": "ipython3",
   "version": "3.10.12"
  },
  "orig_nbformat": 4
 },
 "nbformat": 4,
 "nbformat_minor": 2
}
